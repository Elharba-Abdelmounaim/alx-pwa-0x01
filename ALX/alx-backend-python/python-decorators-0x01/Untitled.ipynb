{
 "cells": [
  {
   "cell_type": "code",
   "execution_count": 1,
   "id": "3f8d9486-88bf-4ed6-95cb-6efa1e59fb60",
   "metadata": {},
   "outputs": [
    {
     "name": "stdout",
     "output_type": "stream",
     "text": [
      "abdelmouaim\n"
     ]
    }
   ],
   "source": [
    "print(\"abdelmouaim\")\n"
   ]
  },
  {
   "cell_type": "code",
   "execution_count": 2,
   "id": "25962234-9714-4c6a-9e03-b23731ede60d",
   "metadata": {},
   "outputs": [
    {
     "name": "stdout",
     "output_type": "stream",
     "text": [
      "24\n"
     ]
    }
   ],
   "source": [
    "a = 1\n",
    "b =23\n",
    "print(a + b)"
   ]
  },
  {
   "cell_type": "code",
   "execution_count": null,
   "id": "c32ad7e5-1547-481e-b122-ff229b85e6f0",
   "metadata": {},
   "outputs": [],
   "source": []
  }
 ],
 "metadata": {
  "kernelspec": {
   "display_name": "Python 3 (ipykernel)",
   "language": "python",
   "name": "python3"
  },
  "language_info": {
   "codemirror_mode": {
    "name": "ipython",
    "version": 3
   },
   "file_extension": ".py",
   "mimetype": "text/x-python",
   "name": "python",
   "nbconvert_exporter": "python",
   "pygments_lexer": "ipython3",
   "version": "3.11.7"
  }
 },
 "nbformat": 4,
 "nbformat_minor": 5
}
